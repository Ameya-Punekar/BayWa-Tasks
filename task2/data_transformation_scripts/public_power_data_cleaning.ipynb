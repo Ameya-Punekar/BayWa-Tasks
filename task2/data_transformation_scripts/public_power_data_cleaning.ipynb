{
  "cells": [
    {
      "cell_type": "code",
      "execution_count": 1,
      "metadata": {
        "colab": {
          "base_uri": "https://localhost:8080/"
        },
        "id": "poS1hP9dfdiz",
        "outputId": "c43ca034-495b-48d4-857f-d409737b7db1"
      },
      "outputs": [
        {
          "name": "stdout",
          "output_type": "stream",
          "text": [
            "Hit:1 https://developer.download.nvidia.com/compute/cuda/repos/ubuntu2204/x86_64  InRelease\n",
            "Hit:2 http://archive.ubuntu.com/ubuntu jammy InRelease\n",
            "Hit:3 http://security.ubuntu.com/ubuntu jammy-security InRelease\n",
            "Hit:4 https://cloud.r-project.org/bin/linux/ubuntu jammy-cran40/ InRelease\n",
            "Hit:5 http://archive.ubuntu.com/ubuntu jammy-updates InRelease\n",
            "Hit:6 http://archive.ubuntu.com/ubuntu jammy-backports InRelease\n",
            "Ign:7 https://r2u.stat.illinois.edu/ubuntu jammy InRelease\n",
            "Hit:8 https://r2u.stat.illinois.edu/ubuntu jammy Release\n",
            "Hit:9 https://ppa.launchpadcontent.net/deadsnakes/ppa/ubuntu jammy InRelease\n",
            "Hit:10 https://ppa.launchpadcontent.net/graphics-drivers/ppa/ubuntu jammy InRelease\n",
            "Hit:11 https://ppa.launchpadcontent.net/ubuntugis/ppa/ubuntu jammy InRelease\n",
            "Reading package lists... Done\n",
            "W: Skipping acquire of configured file 'main/source/Sources' as repository 'https://r2u.stat.illinois.edu/ubuntu jammy InRelease' does not seem to provide it (sources.list entry misspelt?)\n"
          ]
        }
      ],
      "source": [
        "!apt-get update\n",
        "!apt-get install openjdk-8-jdk-headless -qq > /dev/null\n"
      ]
    },
    {
      "cell_type": "code",
      "execution_count": 2,
      "metadata": {
        "colab": {
          "base_uri": "https://localhost:8080/"
        },
        "id": "1YdfPpEtfnih",
        "outputId": "2f28d306-ca27-419a-b0f9-45fcbce96131"
      },
      "outputs": [
        {
          "name": "stdout",
          "output_type": "stream",
          "text": [
            "Requirement already satisfied: pyspark==3.5.1 in /usr/local/lib/python3.10/dist-packages (3.5.1)\n",
            "Requirement already satisfied: delta-spark==3.2.0 in /usr/local/lib/python3.10/dist-packages (3.2.0)\n",
            "Requirement already satisfied: py4j==0.10.9.7 in /usr/local/lib/python3.10/dist-packages (from pyspark==3.5.1) (0.10.9.7)\n",
            "Requirement already satisfied: importlib-metadata>=1.0.0 in /usr/local/lib/python3.10/dist-packages (from delta-spark==3.2.0) (8.5.0)\n",
            "Requirement already satisfied: zipp>=3.20 in /usr/local/lib/python3.10/dist-packages (from importlib-metadata>=1.0.0->delta-spark==3.2.0) (3.20.2)\n"
          ]
        }
      ],
      "source": [
        "!pip install pyspark==3.5.1 delta-spark==3.2.0"
      ]
    },
    {
      "cell_type": "code",
      "execution_count": 6,
      "metadata": {
        "id": "srgivDBJfngl"
      },
      "outputs": [],
      "source": [
        "import os\n",
        "os.environ[\"JAVA_HOME\"] = \"/usr/lib/jvm/java-8-openjdk-amd64\"\n"
      ]
    },
    {
      "cell_type": "code",
      "execution_count": 7,
      "metadata": {
        "id": "9JnXpESifneI"
      },
      "outputs": [],
      "source": [
        "from pyspark.sql import SparkSession\n",
        "\n",
        "# Initialize Spark session with Delta Lake support and required configurations\n",
        "spark = (\n",
        "    SparkSession.builder\n",
        "    .appName(\"Public Power Data Processing with Data Quality Checks\")\n",
        "    .master(\"local[*]\")\n",
        "    .config(\"spark.jars.packages\", \"io.delta:delta-core_2.12:2.3.0\")\n",
        "    .config(\"spark.sql.extensions\", \"io.delta.sql.DeltaSparkSessionExtension\")\n",
        "    .config(\"spark.sql.catalog.spark_catalog\", \"org.apache.spark.sql.delta.catalog.DeltaCatalog\")\n",
        "    .config(\"spark.delta.logStore.class\", \"org.apache.spark.sql.delta.storage.S3SingleDriverLogStore\")\n",
        "    .config(\"spark.sql.crossJoin.enabled\", \"true\")\n",
        "    .getOrCreate()\n",
        ")\n"
      ]
    },
    {
      "cell_type": "code",
      "execution_count": 8,
      "metadata": {
        "colab": {
          "base_uri": "https://localhost:8080/"
        },
        "id": "YRiOPf7hfnbv",
        "outputId": "e5970243-299e-4091-d454-4f37c7d4e0a3"
      },
      "outputs": [
        {
          "name": "stdout",
          "output_type": "stream",
          "text": [
            "Initial DataFrame count: 96\n",
            "+----------+--------------------------------------------------------------------------------------------------------------------------------------------------------------------------------------------------------------------------------------------------------------------------------------------------------------------------------------------------------------------------------------------------------------------------------------------------------------------------------------------------------------------------------------------------------------------------------------------------------------------------------------------------------------------------------------------------------------------------------------------------------------+------------------------+\n",
            "|deprecated|production_types                                                                                                                                                                                                                                                                                                                                                                                                                                                                                                                                                                                                                                                                                                                                              |unix_seconds            |\n",
            "+----------+--------------------------------------------------------------------------------------------------------------------------------------------------------------------------------------------------------------------------------------------------------------------------------------------------------------------------------------------------------------------------------------------------------------------------------------------------------------------------------------------------------------------------------------------------------------------------------------------------------------------------------------------------------------------------------------------------------------------------------------------------------------+------------------------+\n",
            "|false     |[{[-567.4, -445.8], Hydro pumped storage consumption}, {[8756.9, 8801.1], Cross border electricity trading}, {[2703.4, 2695.6], Hydro Run-of-River}, {[4769.3, 4749.8], Biomass}, {[11770.3, 11650.0], Fossil brown coal / lignite}, {[5344.6, 5228.6], Fossil hard coal}, {[237.3, 237.3], Fossil oil}, {[4961.0, 4592.5], Fossil gas}, {[15.4, 15.4], Geothermal}, {[363.4, 260.9], Hydro water reservoir}, {[507.4, 389.5], Hydro pumped storage}, {[183.8, 183.8], Others}, {[1206.2, 1210.6], Waste}, {[523.5, 546.1], Wind offshore}, {[2593.5, 2636.7], Wind onshore}, {[0.0, 0.0], Solar}, {[45868.8, 45220.4], Load}, {[42751.8, 42037.7], Residual load}, {[32.8, 33.4], Renewable share of generation}, {[25.2, 25.4], Renewable share of load}]   |[1728943200, 1728944100]|\n",
            "|false     |[{[-445.8, -218.1], Hydro pumped storage consumption}, {[8801.1, 9203.8], Cross border electricity trading}, {[2695.6, 2696.3], Hydro Run-of-River}, {[4749.8, 4728.4], Biomass}, {[11650.0, 11675.9], Fossil brown coal / lignite}, {[5228.6, 5154.0], Fossil hard coal}, {[237.3, 237.3], Fossil oil}, {[4592.5, 4433.1], Fossil gas}, {[15.4, 15.4], Geothermal}, {[260.9, 121.7], Hydro water reservoir}, {[389.5, 153.9], Hydro pumped storage}, {[183.8, 183.8], Others}, {[1210.6, 1208.9], Waste}, {[546.1, 586.6], Wind offshore}, {[2636.7, 2659.5], Wind onshore}, {[0.0, 0.0], Solar}, {[45220.4, 44786.7], Load}, {[42037.7, 41540.7], Residual load}, {[33.4, 33.6], Renewable share of generation}, {[25.4, 25.4], Renewable share of load}]   |[1728944100, 1728945000]|\n",
            "|false     |[{[-218.1, -496.5], Hydro pumped storage consumption}, {[9203.8, 9305.5], Cross border electricity trading}, {[2696.3, 2694.4], Hydro Run-of-River}, {[4728.4, 4725.7], Biomass}, {[11675.9, 11739.1], Fossil brown coal / lignite}, {[5154.0, 5032.9], Fossil hard coal}, {[237.3, 237.3], Fossil oil}, {[4433.1, 4362.1], Fossil gas}, {[15.4, 15.4], Geothermal}, {[121.7, 84.5], Hydro water reservoir}, {[153.9, 136.8], Hydro pumped storage}, {[183.8, 183.8], Others}, {[1208.9, 1210.2], Waste}, {[586.6, 590.5], Wind offshore}, {[2659.5, 2660.9], Wind onshore}, {[0.0, 0.0], Solar}, {[44786.7, 44480.5], Load}, {[41540.7, 41229.1], Residual load}, {[33.6, 33.7], Renewable share of generation}, {[25.4, 25.5], Renewable share of load}]    |[1728945000, 1728945900]|\n",
            "|false     |[{[-496.5, -1123.6], Hydro pumped storage consumption}, {[9305.5, 8940.2], Cross border electricity trading}, {[2694.4, 2693.5], Hydro Run-of-River}, {[4725.7, 4724.9], Biomass}, {[11739.1, 11924.9], Fossil brown coal / lignite}, {[5032.9, 4928.8], Fossil hard coal}, {[237.3, 237.3], Fossil oil}, {[4362.1, 4326.9], Fossil gas}, {[15.4, 15.4], Geothermal}, {[84.5, 150.8], Hydro water reservoir}, {[136.8, 370.5], Hydro pumped storage}, {[183.8, 181.0], Others}, {[1210.2, 1207.2], Waste}, {[590.5, 508.8], Wind offshore}, {[2660.9, 2695.8], Wind onshore}, {[0.0, 0.0], Solar}, {[44480.5, 43599.6], Load}, {[41229.1, 40395.0], Residual load}, {[33.7, 33.4], Renewable share of generation}, {[25.5, 26.1], Renewable share of load}]   |[1728945900, 1728946800]|\n",
            "|false     |[{[-1123.6, -949.4], Hydro pumped storage consumption}, {[8940.2, 9018.6], Cross border electricity trading}, {[2693.5, 2692.8], Hydro Run-of-River}, {[4724.9, 4717.8], Biomass}, {[11924.9, 12079.5], Fossil brown coal / lignite}, {[4928.8, 4803.7], Fossil hard coal}, {[237.3, 237.3], Fossil oil}, {[4326.9, 4222.4], Fossil gas}, {[15.4, 15.4], Geothermal}, {[150.8, 101.1], Hydro water reservoir}, {[370.5, 161.0], Hydro pumped storage}, {[181.0, 179.7], Others}, {[1207.2, 1210.3], Waste}, {[508.8, 570.7], Wind offshore}, {[2695.8, 2669.0], Wind onshore}, {[0.0, 0.0], Solar}, {[43599.6, 43613.0], Load}, {[40395.0, 40373.3], Residual load}, {[33.4, 33.7], Renewable share of generation}, {[26.1, 26.0], Renewable share of load}]  |[1728946800, 1728947700]|\n",
            "|false     |[{[-949.4, -1715.8], Hydro pumped storage consumption}, {[9018.6, 9128.9], Cross border electricity trading}, {[2692.8, 2691.3], Hydro Run-of-River}, {[4717.8, 4728.0], Biomass}, {[12079.5, 12128.7], Fossil brown coal / lignite}, {[4803.7, 4818.8], Fossil hard coal}, {[237.3, 237.3], Fossil oil}, {[4222.4, 4213.0], Fossil gas}, {[15.4, 15.4], Geothermal}, {[101.1, 103.0], Hydro water reservoir}, {[161.0, 149.0], Hydro pumped storage}, {[179.7, 179.7], Others}, {[1210.3, 1199.7], Waste}, {[570.7, 710.9], Wind offshore}, {[2669.0, 2628.1], Wind onshore}, {[0.0, 0.0], Solar}, {[43613.0, 43390.7], Load}, {[40373.3, 40051.8], Residual load}, {[33.7, 33.9], Renewable share of generation}, {[26.0, 26.4], Renewable share of load}]  |[1728947700, 1728948600]|\n",
            "|false     |[{[-1715.8, -1842.3], Hydro pumped storage consumption}, {[9128.9, 9165.7], Cross border electricity trading}, {[2691.3, 2691.7], Hydro Run-of-River}, {[4728.0, 4743.6], Biomass}, {[12128.7, 12212.6], Fossil brown coal / lignite}, {[4818.8, 4732.5], Fossil hard coal}, {[237.3, 237.3], Fossil oil}, {[4213.0, 4211.4], Fossil gas}, {[15.4, 15.4], Geothermal}, {[103.0, 69.1], Hydro water reservoir}, {[149.0, 77.0], Hydro pumped storage}, {[179.7, 179.7], Others}, {[1199.7, 1203.4], Waste}, {[710.9, 763.5], Wind offshore}, {[2628.1, 2632.7], Wind onshore}, {[0.0, 0.0], Solar}, {[43390.7, 43147.7], Load}, {[40051.8, 39751.5], Residual load}, {[33.9, 34.0], Renewable share of generation}, {[26.4, 26.6], Renewable share of load}]   |[1728948600, 1728949500]|\n",
            "|false     |[{[-1842.3, -2200.3], Hydro pumped storage consumption}, {[9165.7, 9447.4], Cross border electricity trading}, {[2691.7, 2691.1], Hydro Run-of-River}, {[4743.6, 4760.9], Biomass}, {[12212.6, 12266.5], Fossil brown coal / lignite}, {[4732.5, 4576.4], Fossil hard coal}, {[237.3, 237.3], Fossil oil}, {[4211.4, 4209.2], Fossil gas}, {[15.4, 15.4], Geothermal}, {[69.1, 81.9], Hydro water reservoir}, {[77.0, 125.4], Hydro pumped storage}, {[179.7, 179.7], Others}, {[1203.4, 1202.1], Waste}, {[763.5, 829.0], Wind offshore}, {[2632.7, 2668.9], Wind onshore}, {[0.0, 0.0], Solar}, {[43147.7, 42791.0], Load}, {[39751.5, 39293.0], Residual load}, {[34.0, 34.3], Renewable share of generation}, {[26.6, 27.1], Renewable share of load}]    |[1728949500, 1728950400]|\n",
            "|false     |[{[-2200.3, -2472.0], Hydro pumped storage consumption}, {[9447.4, 9425.5], Cross border electricity trading}, {[2691.1, 2690.2], Hydro Run-of-River}, {[4760.9, 4763.0], Biomass}, {[12266.5, 12233.2], Fossil brown coal / lignite}, {[4576.4, 4325.5], Fossil hard coal}, {[237.3, 237.3], Fossil oil}, {[4209.2, 4209.5], Fossil gas}, {[15.4, 15.4], Geothermal}, {[81.9, 87.0], Hydro water reservoir}, {[125.4, 126.9], Hydro pumped storage}, {[179.7, 179.8], Others}, {[1202.1, 1202.0], Waste}, {[829.0, 872.6], Wind offshore}, {[2668.9, 2726.0], Wind onshore}, {[0.0, 0.0], Solar}, {[42791.0, 42536.8], Load}, {[39293.0, 38938.2], Residual load}, {[34.3, 34.8], Renewable share of generation}, {[27.1, 27.6], Renewable share of load}]   |[1728950400, 1728951300]|\n",
            "|false     |[{[-2472.0, -2763.5], Hydro pumped storage consumption}, {[9425.5, 9435.8], Cross border electricity trading}, {[2690.2, 2690.8], Hydro Run-of-River}, {[4763.0, 4773.2], Biomass}, {[12233.2, 12286.4], Fossil brown coal / lignite}, {[4325.5, 4235.2], Fossil hard coal}, {[237.3, 237.3], Fossil oil}, {[4209.5, 4193.4], Fossil gas}, {[15.4, 15.4], Geothermal}, {[87.0, 93.8], Hydro water reservoir}, {[126.9, 195.0], Hydro pumped storage}, {[179.8, 179.7], Others}, {[1202.0, 1203.0], Waste}, {[872.6, 800.7], Wind offshore}, {[2726.0, 2823.9], Wind onshore}, {[0.0, 0.0], Solar}, {[42536.8, 42440.5], Load}, {[38938.2, 38815.9], Residual load}, {[34.8, 34.9], Renewable share of generation}, {[27.6, 27.7], Renewable share of load}]   |[1728951300, 1728952200]|\n",
            "|false     |[{[-2763.5, -2827.9], Hydro pumped storage consumption}, {[9435.8, 9467.3], Cross border electricity trading}, {[2690.8, 2693.0], Hydro Run-of-River}, {[4773.2, 4794.1], Biomass}, {[12286.4, 12329.5], Fossil brown coal / lignite}, {[4235.2, 4181.4], Fossil hard coal}, {[237.3, 237.3], Fossil oil}, {[4193.4, 4168.5], Fossil gas}, {[15.4, 15.4], Geothermal}, {[93.8, 110.5], Hydro water reservoir}, {[195.0, 234.3], Hydro pumped storage}, {[179.7, 179.8], Others}, {[1203.0, 1206.0], Waste}, {[800.7, 744.5], Wind offshore}, {[2823.9, 2936.6], Wind onshore}, {[0.0, 0.0], Solar}, {[42440.5, 42539.6], Load}, {[38815.9, 38858.4], Residual load}, {[34.9, 35.1], Renewable share of generation}, {[27.7, 27.9], Renewable share of load}]  |[1728952200, 1728953100]|\n",
            "|false     |[{[-2827.9, -2721.0], Hydro pumped storage consumption}, {[9467.3, 10086.4], Cross border electricity trading}, {[2693.0, 2690.5], Hydro Run-of-River}, {[4794.1, 4810.8], Biomass}, {[12329.5, 12167.3], Fossil brown coal / lignite}, {[4181.4, 4068.2], Fossil hard coal}, {[237.3, 237.3], Fossil oil}, {[4168.5, 4126.1], Fossil gas}, {[15.4, 15.4], Geothermal}, {[110.5, 105.2], Hydro water reservoir}, {[234.3, 162.2], Hydro pumped storage}, {[179.8, 179.7], Others}, {[1206.0, 1200.4], Waste}, {[744.5, 681.9], Wind offshore}, {[2936.6, 2989.8], Wind onshore}, {[0.0, 0.0], Solar}, {[42539.6, 42816.3], Load}, {[38858.4, 39144.6], Residual load}, {[35.1, 35.5], Renewable share of generation}, {[27.9, 27.7], Renewable share of load}]|[1728953100, 1728954000]|\n",
            "|false     |[{[-2721.0, -2335.6], Hydro pumped storage consumption}, {[10086.4, 10122.2], Cross border electricity trading}, {[2690.5, 2689.5], Hydro Run-of-River}, {[4810.8, 4813.8], Biomass}, {[12167.3, 11944.6], Fossil brown coal / lignite}, {[4068.2, 4015.8], Fossil hard coal}, {[237.3, 237.3], Fossil oil}, {[4126.1, 4123.4], Fossil gas}, {[15.4, 15.4], Geothermal}, {[105.2, 58.9], Hydro water reservoir}, {[162.2, 181.0], Hydro pumped storage}, {[179.7, 179.7], Others}, {[1200.4, 1198.6], Waste}, {[681.9, 666.0], Wind offshore}, {[2989.8, 2956.7], Wind onshore}, {[0.0, 0.0], Solar}, {[42816.3, 42759.6], Load}, {[39144.6, 39136.8], Residual load}, {[35.5, 35.6], Renewable share of generation}, {[27.7, 27.5], Renewable share of load}]|[1728954000, 1728954900]|\n",
            "|false     |[{[-2335.6, -2215.7], Hydro pumped storage consumption}, {[10122.2, 10161.6], Cross border electricity trading}, {[2689.5, 2690.6], Hydro Run-of-River}, {[4813.8, 4825.4], Biomass}, {[11944.6, 11919.7], Fossil brown coal / lignite}, {[4015.8, 4005.4], Fossil hard coal}, {[237.3, 237.3], Fossil oil}, {[4123.4, 4118.4], Fossil gas}, {[15.4, 15.4], Geothermal}, {[58.9, 55.4], Hydro water reservoir}, {[181.0, 179.5], Hydro pumped storage}, {[179.7, 179.6], Others}, {[1198.6, 1196.5], Waste}, {[666.0, 679.7], Wind offshore}, {[2956.7, 2968.4], Wind onshore}, {[0.0, 0.0], Solar}, {[42759.6, 42811.8], Load}, {[39136.8, 39163.7], Residual load}, {[35.6, 35.7], Renewable share of generation}, {[27.5, 27.6], Renewable share of load}] |[1728954900, 1728955800]|\n",
            "|false     |[{[-2215.7, -1993.0], Hydro pumped storage consumption}, {[10161.6, 10194.0], Cross border electricity trading}, {[2690.6, 2688.8], Hydro Run-of-River}, {[4825.4, 4857.0], Biomass}, {[11919.7, 11882.0], Fossil brown coal / lignite}, {[4005.4, 4024.4], Fossil hard coal}, {[237.3, 237.3], Fossil oil}, {[4118.4, 4132.2], Fossil gas}, {[15.4, 15.4], Geothermal}, {[55.4, 47.7], Hydro water reservoir}, {[179.5, 132.0], Hydro pumped storage}, {[179.6, 179.6], Others}, {[1196.5, 1195.3], Waste}, {[679.7, 683.5], Wind offshore}, {[2968.4, 3025.3], Wind onshore}, {[0.0, 0.0], Solar}, {[42811.8, 43006.3], Load}, {[39163.7, 39297.5], Residual load}, {[35.7, 35.9], Renewable share of generation}, {[27.6, 27.6], Renewable share of load}] |[1728955800, 1728956700]|\n",
            "|false     |[{[-1993.0, -2207.3], Hydro pumped storage consumption}, {[10194.0, 10478.5], Cross border electricity trading}, {[2688.8, 2688.0], Hydro Run-of-River}, {[4857.0, 4882.1], Biomass}, {[11882.0, 11946.3], Fossil brown coal / lignite}, {[4024.4, 4076.0], Fossil hard coal}, {[237.3, 237.3], Fossil oil}, {[4132.2, 4359.5], Fossil gas}, {[15.4, 15.4], Geothermal}, {[47.7, 54.6], Hydro water reservoir}, {[132.0, 335.9], Hydro pumped storage}, {[179.6, 179.6], Others}, {[1195.3, 1200.3], Waste}, {[683.5, 710.0], Wind offshore}, {[3025.3, 3081.6], Wind onshore}, {[0.0, 0.0], Solar}, {[43006.3, 43316.3], Load}, {[39297.5, 39524.6], Residual load}, {[35.9, 35.5], Renewable share of generation}, {[27.6, 27.7], Renewable share of load}] |[1728956700, 1728957600]|\n",
            "|false     |[{[-2207.3, -2783.3], Hydro pumped storage consumption}, {[10478.5, 10461.1], Cross border electricity trading}, {[2688.0, 2687.1], Hydro Run-of-River}, {[4882.1, 4883.0], Biomass}, {[11946.3, 12123.6], Fossil brown coal / lignite}, {[4076.0, 4091.7], Fossil hard coal}, {[237.3, 237.3], Fossil oil}, {[4359.5, 4396.4], Fossil gas}, {[15.4, 15.4], Geothermal}, {[54.6, 67.4], Hydro water reservoir}, {[335.9, 430.4], Hydro pumped storage}, {[179.6, 179.6], Others}, {[1200.3, 1193.4], Waste}, {[710.0, 758.9], Wind offshore}, {[3081.6, 3113.6], Wind onshore}, {[0.0, 0.0], Solar}, {[43316.3, 43656.8], Load}, {[39524.6, 39784.3], Residual load}, {[35.5, 35.4], Renewable share of generation}, {[27.7, 27.7], Renewable share of load}] |[1728957600, 1728958500]|\n",
            "|false     |[{[-2783.3, -2352.1], Hydro pumped storage consumption}, {[10461.1, 10440.3], Cross border electricity trading}, {[2687.1, 2684.8], Hydro Run-of-River}, {[4883.0, 4893.7], Biomass}, {[12123.6, 12000.8], Fossil brown coal / lignite}, {[4091.7, 4339.2], Fossil hard coal}, {[237.3, 237.3], Fossil oil}, {[4396.4, 4426.2], Fossil gas}, {[15.4, 15.4], Geothermal}, {[67.4, 103.5], Hydro water reservoir}, {[430.4, 561.6], Hydro pumped storage}, {[179.6, 179.5], Others}, {[1193.4, 1190.6], Waste}, {[758.9, 776.0], Wind offshore}, {[3113.6, 3107.3], Wind onshore}, {[0.0, 0.0], Solar}, {[43656.8, 44341.3], Load}, {[39784.3, 40458.1], Residual load}, {[35.4, 35.2], Renewable share of generation}, {[27.7, 27.4], Renewable share of load}]|[1728958500, 1728959400]|\n",
            "|false     |[{[-2352.1, -2333.0], Hydro pumped storage consumption}, {[10440.3, 10385.6], Cross border electricity trading}, {[2684.8, 2683.9], Hydro Run-of-River}, {[4893.7, 4923.2], Biomass}, {[12000.8, 11848.2], Fossil brown coal / lignite}, {[4339.2, 4534.2], Fossil hard coal}, {[237.3, 237.3], Fossil oil}, {[4426.2, 4467.3], Fossil gas}, {[15.4, 15.4], Geothermal}, {[103.5, 95.4], Hydro water reservoir}, {[561.6, 609.0], Hydro pumped storage}, {[179.5, 181.2], Others}, {[1190.6, 1204.0], Waste}, {[776.0, 785.8], Wind offshore}, {[3107.3, 3088.4], Wind onshore}, {[0.0, 0.0], Solar}, {[44341.3, 45040.8], Load}, {[40458.1, 41166.6], Residual load}, {[35.2, 35.1], Renewable share of generation}, {[27.4, 27.0], Renewable share of load}]|[1728959400, 1728960300]|\n",
            "|false     |[{[-2333.0, -1940.5], Hydro pumped storage consumption}, {[10385.6, 10367.0], Cross border electricity trading}, {[2683.9, 2679.7], Hydro Run-of-River}, {[4923.2, 4936.5], Biomass}, {[11848.2, 11826.9], Fossil brown coal / lignite}, {[4534.2, 4852.6], Fossil hard coal}, {[237.3, 237.3], Fossil oil}, {[4467.3, 5078.6], Fossil gas}, {[15.4, 15.4], Geothermal}, {[95.4, 94.1], Hydro water reservoir}, {[609.0, 420.0], Hydro pumped storage}, {[181.2, 187.1], Others}, {[1204.0, 1205.7], Waste}, {[785.8, 798.7], Wind offshore}, {[3088.4, 3047.5], Wind onshore}, {[0.0, 0.0], Solar}, {[45040.8, 46044.3], Load}, {[41166.6, 42198.1], Residual load}, {[35.1, 34.3], Renewable share of generation}, {[27.0, 26.4], Renewable share of load}] |[1728960300, 1728961200]|\n",
            "+----------+--------------------------------------------------------------------------------------------------------------------------------------------------------------------------------------------------------------------------------------------------------------------------------------------------------------------------------------------------------------------------------------------------------------------------------------------------------------------------------------------------------------------------------------------------------------------------------------------------------------------------------------------------------------------------------------------------------------------------------------------------------------+------------------------+\n",
            "only showing top 20 rows\n",
            "\n",
            "Filtered DataFrame count (not deprecated): 96\n",
            "+----------+--------------------------------------------------------------------------------------------------------------------------------------------------------------------------------------------------------------------------------------------------------------------------------------------------------------------------------------------------------------------------------------------------------------------------------------------------------------------------------------------------------------------------------------------------------------------------------------------------------------------------------------------------------------------------------------------------------------------------------------------------------------+------------------------+\n",
            "|deprecated|production_types                                                                                                                                                                                                                                                                                                                                                                                                                                                                                                                                                                                                                                                                                                                                              |unix_seconds            |\n",
            "+----------+--------------------------------------------------------------------------------------------------------------------------------------------------------------------------------------------------------------------------------------------------------------------------------------------------------------------------------------------------------------------------------------------------------------------------------------------------------------------------------------------------------------------------------------------------------------------------------------------------------------------------------------------------------------------------------------------------------------------------------------------------------------+------------------------+\n",
            "|false     |[{[-567.4, -445.8], Hydro pumped storage consumption}, {[8756.9, 8801.1], Cross border electricity trading}, {[2703.4, 2695.6], Hydro Run-of-River}, {[4769.3, 4749.8], Biomass}, {[11770.3, 11650.0], Fossil brown coal / lignite}, {[5344.6, 5228.6], Fossil hard coal}, {[237.3, 237.3], Fossil oil}, {[4961.0, 4592.5], Fossil gas}, {[15.4, 15.4], Geothermal}, {[363.4, 260.9], Hydro water reservoir}, {[507.4, 389.5], Hydro pumped storage}, {[183.8, 183.8], Others}, {[1206.2, 1210.6], Waste}, {[523.5, 546.1], Wind offshore}, {[2593.5, 2636.7], Wind onshore}, {[0.0, 0.0], Solar}, {[45868.8, 45220.4], Load}, {[42751.8, 42037.7], Residual load}, {[32.8, 33.4], Renewable share of generation}, {[25.2, 25.4], Renewable share of load}]   |[1728943200, 1728944100]|\n",
            "|false     |[{[-445.8, -218.1], Hydro pumped storage consumption}, {[8801.1, 9203.8], Cross border electricity trading}, {[2695.6, 2696.3], Hydro Run-of-River}, {[4749.8, 4728.4], Biomass}, {[11650.0, 11675.9], Fossil brown coal / lignite}, {[5228.6, 5154.0], Fossil hard coal}, {[237.3, 237.3], Fossil oil}, {[4592.5, 4433.1], Fossil gas}, {[15.4, 15.4], Geothermal}, {[260.9, 121.7], Hydro water reservoir}, {[389.5, 153.9], Hydro pumped storage}, {[183.8, 183.8], Others}, {[1210.6, 1208.9], Waste}, {[546.1, 586.6], Wind offshore}, {[2636.7, 2659.5], Wind onshore}, {[0.0, 0.0], Solar}, {[45220.4, 44786.7], Load}, {[42037.7, 41540.7], Residual load}, {[33.4, 33.6], Renewable share of generation}, {[25.4, 25.4], Renewable share of load}]   |[1728944100, 1728945000]|\n",
            "|false     |[{[-218.1, -496.5], Hydro pumped storage consumption}, {[9203.8, 9305.5], Cross border electricity trading}, {[2696.3, 2694.4], Hydro Run-of-River}, {[4728.4, 4725.7], Biomass}, {[11675.9, 11739.1], Fossil brown coal / lignite}, {[5154.0, 5032.9], Fossil hard coal}, {[237.3, 237.3], Fossil oil}, {[4433.1, 4362.1], Fossil gas}, {[15.4, 15.4], Geothermal}, {[121.7, 84.5], Hydro water reservoir}, {[153.9, 136.8], Hydro pumped storage}, {[183.8, 183.8], Others}, {[1208.9, 1210.2], Waste}, {[586.6, 590.5], Wind offshore}, {[2659.5, 2660.9], Wind onshore}, {[0.0, 0.0], Solar}, {[44786.7, 44480.5], Load}, {[41540.7, 41229.1], Residual load}, {[33.6, 33.7], Renewable share of generation}, {[25.4, 25.5], Renewable share of load}]    |[1728945000, 1728945900]|\n",
            "|false     |[{[-496.5, -1123.6], Hydro pumped storage consumption}, {[9305.5, 8940.2], Cross border electricity trading}, {[2694.4, 2693.5], Hydro Run-of-River}, {[4725.7, 4724.9], Biomass}, {[11739.1, 11924.9], Fossil brown coal / lignite}, {[5032.9, 4928.8], Fossil hard coal}, {[237.3, 237.3], Fossil oil}, {[4362.1, 4326.9], Fossil gas}, {[15.4, 15.4], Geothermal}, {[84.5, 150.8], Hydro water reservoir}, {[136.8, 370.5], Hydro pumped storage}, {[183.8, 181.0], Others}, {[1210.2, 1207.2], Waste}, {[590.5, 508.8], Wind offshore}, {[2660.9, 2695.8], Wind onshore}, {[0.0, 0.0], Solar}, {[44480.5, 43599.6], Load}, {[41229.1, 40395.0], Residual load}, {[33.7, 33.4], Renewable share of generation}, {[25.5, 26.1], Renewable share of load}]   |[1728945900, 1728946800]|\n",
            "|false     |[{[-1123.6, -949.4], Hydro pumped storage consumption}, {[8940.2, 9018.6], Cross border electricity trading}, {[2693.5, 2692.8], Hydro Run-of-River}, {[4724.9, 4717.8], Biomass}, {[11924.9, 12079.5], Fossil brown coal / lignite}, {[4928.8, 4803.7], Fossil hard coal}, {[237.3, 237.3], Fossil oil}, {[4326.9, 4222.4], Fossil gas}, {[15.4, 15.4], Geothermal}, {[150.8, 101.1], Hydro water reservoir}, {[370.5, 161.0], Hydro pumped storage}, {[181.0, 179.7], Others}, {[1207.2, 1210.3], Waste}, {[508.8, 570.7], Wind offshore}, {[2695.8, 2669.0], Wind onshore}, {[0.0, 0.0], Solar}, {[43599.6, 43613.0], Load}, {[40395.0, 40373.3], Residual load}, {[33.4, 33.7], Renewable share of generation}, {[26.1, 26.0], Renewable share of load}]  |[1728946800, 1728947700]|\n",
            "|false     |[{[-949.4, -1715.8], Hydro pumped storage consumption}, {[9018.6, 9128.9], Cross border electricity trading}, {[2692.8, 2691.3], Hydro Run-of-River}, {[4717.8, 4728.0], Biomass}, {[12079.5, 12128.7], Fossil brown coal / lignite}, {[4803.7, 4818.8], Fossil hard coal}, {[237.3, 237.3], Fossil oil}, {[4222.4, 4213.0], Fossil gas}, {[15.4, 15.4], Geothermal}, {[101.1, 103.0], Hydro water reservoir}, {[161.0, 149.0], Hydro pumped storage}, {[179.7, 179.7], Others}, {[1210.3, 1199.7], Waste}, {[570.7, 710.9], Wind offshore}, {[2669.0, 2628.1], Wind onshore}, {[0.0, 0.0], Solar}, {[43613.0, 43390.7], Load}, {[40373.3, 40051.8], Residual load}, {[33.7, 33.9], Renewable share of generation}, {[26.0, 26.4], Renewable share of load}]  |[1728947700, 1728948600]|\n",
            "|false     |[{[-1715.8, -1842.3], Hydro pumped storage consumption}, {[9128.9, 9165.7], Cross border electricity trading}, {[2691.3, 2691.7], Hydro Run-of-River}, {[4728.0, 4743.6], Biomass}, {[12128.7, 12212.6], Fossil brown coal / lignite}, {[4818.8, 4732.5], Fossil hard coal}, {[237.3, 237.3], Fossil oil}, {[4213.0, 4211.4], Fossil gas}, {[15.4, 15.4], Geothermal}, {[103.0, 69.1], Hydro water reservoir}, {[149.0, 77.0], Hydro pumped storage}, {[179.7, 179.7], Others}, {[1199.7, 1203.4], Waste}, {[710.9, 763.5], Wind offshore}, {[2628.1, 2632.7], Wind onshore}, {[0.0, 0.0], Solar}, {[43390.7, 43147.7], Load}, {[40051.8, 39751.5], Residual load}, {[33.9, 34.0], Renewable share of generation}, {[26.4, 26.6], Renewable share of load}]   |[1728948600, 1728949500]|\n",
            "|false     |[{[-1842.3, -2200.3], Hydro pumped storage consumption}, {[9165.7, 9447.4], Cross border electricity trading}, {[2691.7, 2691.1], Hydro Run-of-River}, {[4743.6, 4760.9], Biomass}, {[12212.6, 12266.5], Fossil brown coal / lignite}, {[4732.5, 4576.4], Fossil hard coal}, {[237.3, 237.3], Fossil oil}, {[4211.4, 4209.2], Fossil gas}, {[15.4, 15.4], Geothermal}, {[69.1, 81.9], Hydro water reservoir}, {[77.0, 125.4], Hydro pumped storage}, {[179.7, 179.7], Others}, {[1203.4, 1202.1], Waste}, {[763.5, 829.0], Wind offshore}, {[2632.7, 2668.9], Wind onshore}, {[0.0, 0.0], Solar}, {[43147.7, 42791.0], Load}, {[39751.5, 39293.0], Residual load}, {[34.0, 34.3], Renewable share of generation}, {[26.6, 27.1], Renewable share of load}]    |[1728949500, 1728950400]|\n",
            "|false     |[{[-2200.3, -2472.0], Hydro pumped storage consumption}, {[9447.4, 9425.5], Cross border electricity trading}, {[2691.1, 2690.2], Hydro Run-of-River}, {[4760.9, 4763.0], Biomass}, {[12266.5, 12233.2], Fossil brown coal / lignite}, {[4576.4, 4325.5], Fossil hard coal}, {[237.3, 237.3], Fossil oil}, {[4209.2, 4209.5], Fossil gas}, {[15.4, 15.4], Geothermal}, {[81.9, 87.0], Hydro water reservoir}, {[125.4, 126.9], Hydro pumped storage}, {[179.7, 179.8], Others}, {[1202.1, 1202.0], Waste}, {[829.0, 872.6], Wind offshore}, {[2668.9, 2726.0], Wind onshore}, {[0.0, 0.0], Solar}, {[42791.0, 42536.8], Load}, {[39293.0, 38938.2], Residual load}, {[34.3, 34.8], Renewable share of generation}, {[27.1, 27.6], Renewable share of load}]   |[1728950400, 1728951300]|\n",
            "|false     |[{[-2472.0, -2763.5], Hydro pumped storage consumption}, {[9425.5, 9435.8], Cross border electricity trading}, {[2690.2, 2690.8], Hydro Run-of-River}, {[4763.0, 4773.2], Biomass}, {[12233.2, 12286.4], Fossil brown coal / lignite}, {[4325.5, 4235.2], Fossil hard coal}, {[237.3, 237.3], Fossil oil}, {[4209.5, 4193.4], Fossil gas}, {[15.4, 15.4], Geothermal}, {[87.0, 93.8], Hydro water reservoir}, {[126.9, 195.0], Hydro pumped storage}, {[179.8, 179.7], Others}, {[1202.0, 1203.0], Waste}, {[872.6, 800.7], Wind offshore}, {[2726.0, 2823.9], Wind onshore}, {[0.0, 0.0], Solar}, {[42536.8, 42440.5], Load}, {[38938.2, 38815.9], Residual load}, {[34.8, 34.9], Renewable share of generation}, {[27.6, 27.7], Renewable share of load}]   |[1728951300, 1728952200]|\n",
            "|false     |[{[-2763.5, -2827.9], Hydro pumped storage consumption}, {[9435.8, 9467.3], Cross border electricity trading}, {[2690.8, 2693.0], Hydro Run-of-River}, {[4773.2, 4794.1], Biomass}, {[12286.4, 12329.5], Fossil brown coal / lignite}, {[4235.2, 4181.4], Fossil hard coal}, {[237.3, 237.3], Fossil oil}, {[4193.4, 4168.5], Fossil gas}, {[15.4, 15.4], Geothermal}, {[93.8, 110.5], Hydro water reservoir}, {[195.0, 234.3], Hydro pumped storage}, {[179.7, 179.8], Others}, {[1203.0, 1206.0], Waste}, {[800.7, 744.5], Wind offshore}, {[2823.9, 2936.6], Wind onshore}, {[0.0, 0.0], Solar}, {[42440.5, 42539.6], Load}, {[38815.9, 38858.4], Residual load}, {[34.9, 35.1], Renewable share of generation}, {[27.7, 27.9], Renewable share of load}]  |[1728952200, 1728953100]|\n",
            "|false     |[{[-2827.9, -2721.0], Hydro pumped storage consumption}, {[9467.3, 10086.4], Cross border electricity trading}, {[2693.0, 2690.5], Hydro Run-of-River}, {[4794.1, 4810.8], Biomass}, {[12329.5, 12167.3], Fossil brown coal / lignite}, {[4181.4, 4068.2], Fossil hard coal}, {[237.3, 237.3], Fossil oil}, {[4168.5, 4126.1], Fossil gas}, {[15.4, 15.4], Geothermal}, {[110.5, 105.2], Hydro water reservoir}, {[234.3, 162.2], Hydro pumped storage}, {[179.8, 179.7], Others}, {[1206.0, 1200.4], Waste}, {[744.5, 681.9], Wind offshore}, {[2936.6, 2989.8], Wind onshore}, {[0.0, 0.0], Solar}, {[42539.6, 42816.3], Load}, {[38858.4, 39144.6], Residual load}, {[35.1, 35.5], Renewable share of generation}, {[27.9, 27.7], Renewable share of load}]|[1728953100, 1728954000]|\n",
            "|false     |[{[-2721.0, -2335.6], Hydro pumped storage consumption}, {[10086.4, 10122.2], Cross border electricity trading}, {[2690.5, 2689.5], Hydro Run-of-River}, {[4810.8, 4813.8], Biomass}, {[12167.3, 11944.6], Fossil brown coal / lignite}, {[4068.2, 4015.8], Fossil hard coal}, {[237.3, 237.3], Fossil oil}, {[4126.1, 4123.4], Fossil gas}, {[15.4, 15.4], Geothermal}, {[105.2, 58.9], Hydro water reservoir}, {[162.2, 181.0], Hydro pumped storage}, {[179.7, 179.7], Others}, {[1200.4, 1198.6], Waste}, {[681.9, 666.0], Wind offshore}, {[2989.8, 2956.7], Wind onshore}, {[0.0, 0.0], Solar}, {[42816.3, 42759.6], Load}, {[39144.6, 39136.8], Residual load}, {[35.5, 35.6], Renewable share of generation}, {[27.7, 27.5], Renewable share of load}]|[1728954000, 1728954900]|\n",
            "|false     |[{[-2335.6, -2215.7], Hydro pumped storage consumption}, {[10122.2, 10161.6], Cross border electricity trading}, {[2689.5, 2690.6], Hydro Run-of-River}, {[4813.8, 4825.4], Biomass}, {[11944.6, 11919.7], Fossil brown coal / lignite}, {[4015.8, 4005.4], Fossil hard coal}, {[237.3, 237.3], Fossil oil}, {[4123.4, 4118.4], Fossil gas}, {[15.4, 15.4], Geothermal}, {[58.9, 55.4], Hydro water reservoir}, {[181.0, 179.5], Hydro pumped storage}, {[179.7, 179.6], Others}, {[1198.6, 1196.5], Waste}, {[666.0, 679.7], Wind offshore}, {[2956.7, 2968.4], Wind onshore}, {[0.0, 0.0], Solar}, {[42759.6, 42811.8], Load}, {[39136.8, 39163.7], Residual load}, {[35.6, 35.7], Renewable share of generation}, {[27.5, 27.6], Renewable share of load}] |[1728954900, 1728955800]|\n",
            "|false     |[{[-2215.7, -1993.0], Hydro pumped storage consumption}, {[10161.6, 10194.0], Cross border electricity trading}, {[2690.6, 2688.8], Hydro Run-of-River}, {[4825.4, 4857.0], Biomass}, {[11919.7, 11882.0], Fossil brown coal / lignite}, {[4005.4, 4024.4], Fossil hard coal}, {[237.3, 237.3], Fossil oil}, {[4118.4, 4132.2], Fossil gas}, {[15.4, 15.4], Geothermal}, {[55.4, 47.7], Hydro water reservoir}, {[179.5, 132.0], Hydro pumped storage}, {[179.6, 179.6], Others}, {[1196.5, 1195.3], Waste}, {[679.7, 683.5], Wind offshore}, {[2968.4, 3025.3], Wind onshore}, {[0.0, 0.0], Solar}, {[42811.8, 43006.3], Load}, {[39163.7, 39297.5], Residual load}, {[35.7, 35.9], Renewable share of generation}, {[27.6, 27.6], Renewable share of load}] |[1728955800, 1728956700]|\n",
            "|false     |[{[-1993.0, -2207.3], Hydro pumped storage consumption}, {[10194.0, 10478.5], Cross border electricity trading}, {[2688.8, 2688.0], Hydro Run-of-River}, {[4857.0, 4882.1], Biomass}, {[11882.0, 11946.3], Fossil brown coal / lignite}, {[4024.4, 4076.0], Fossil hard coal}, {[237.3, 237.3], Fossil oil}, {[4132.2, 4359.5], Fossil gas}, {[15.4, 15.4], Geothermal}, {[47.7, 54.6], Hydro water reservoir}, {[132.0, 335.9], Hydro pumped storage}, {[179.6, 179.6], Others}, {[1195.3, 1200.3], Waste}, {[683.5, 710.0], Wind offshore}, {[3025.3, 3081.6], Wind onshore}, {[0.0, 0.0], Solar}, {[43006.3, 43316.3], Load}, {[39297.5, 39524.6], Residual load}, {[35.9, 35.5], Renewable share of generation}, {[27.6, 27.7], Renewable share of load}] |[1728956700, 1728957600]|\n",
            "|false     |[{[-2207.3, -2783.3], Hydro pumped storage consumption}, {[10478.5, 10461.1], Cross border electricity trading}, {[2688.0, 2687.1], Hydro Run-of-River}, {[4882.1, 4883.0], Biomass}, {[11946.3, 12123.6], Fossil brown coal / lignite}, {[4076.0, 4091.7], Fossil hard coal}, {[237.3, 237.3], Fossil oil}, {[4359.5, 4396.4], Fossil gas}, {[15.4, 15.4], Geothermal}, {[54.6, 67.4], Hydro water reservoir}, {[335.9, 430.4], Hydro pumped storage}, {[179.6, 179.6], Others}, {[1200.3, 1193.4], Waste}, {[710.0, 758.9], Wind offshore}, {[3081.6, 3113.6], Wind onshore}, {[0.0, 0.0], Solar}, {[43316.3, 43656.8], Load}, {[39524.6, 39784.3], Residual load}, {[35.5, 35.4], Renewable share of generation}, {[27.7, 27.7], Renewable share of load}] |[1728957600, 1728958500]|\n",
            "|false     |[{[-2783.3, -2352.1], Hydro pumped storage consumption}, {[10461.1, 10440.3], Cross border electricity trading}, {[2687.1, 2684.8], Hydro Run-of-River}, {[4883.0, 4893.7], Biomass}, {[12123.6, 12000.8], Fossil brown coal / lignite}, {[4091.7, 4339.2], Fossil hard coal}, {[237.3, 237.3], Fossil oil}, {[4396.4, 4426.2], Fossil gas}, {[15.4, 15.4], Geothermal}, {[67.4, 103.5], Hydro water reservoir}, {[430.4, 561.6], Hydro pumped storage}, {[179.6, 179.5], Others}, {[1193.4, 1190.6], Waste}, {[758.9, 776.0], Wind offshore}, {[3113.6, 3107.3], Wind onshore}, {[0.0, 0.0], Solar}, {[43656.8, 44341.3], Load}, {[39784.3, 40458.1], Residual load}, {[35.4, 35.2], Renewable share of generation}, {[27.7, 27.4], Renewable share of load}]|[1728958500, 1728959400]|\n",
            "|false     |[{[-2352.1, -2333.0], Hydro pumped storage consumption}, {[10440.3, 10385.6], Cross border electricity trading}, {[2684.8, 2683.9], Hydro Run-of-River}, {[4893.7, 4923.2], Biomass}, {[12000.8, 11848.2], Fossil brown coal / lignite}, {[4339.2, 4534.2], Fossil hard coal}, {[237.3, 237.3], Fossil oil}, {[4426.2, 4467.3], Fossil gas}, {[15.4, 15.4], Geothermal}, {[103.5, 95.4], Hydro water reservoir}, {[561.6, 609.0], Hydro pumped storage}, {[179.5, 181.2], Others}, {[1190.6, 1204.0], Waste}, {[776.0, 785.8], Wind offshore}, {[3107.3, 3088.4], Wind onshore}, {[0.0, 0.0], Solar}, {[44341.3, 45040.8], Load}, {[40458.1, 41166.6], Residual load}, {[35.2, 35.1], Renewable share of generation}, {[27.4, 27.0], Renewable share of load}]|[1728959400, 1728960300]|\n",
            "|false     |[{[-2333.0, -1940.5], Hydro pumped storage consumption}, {[10385.6, 10367.0], Cross border electricity trading}, {[2683.9, 2679.7], Hydro Run-of-River}, {[4923.2, 4936.5], Biomass}, {[11848.2, 11826.9], Fossil brown coal / lignite}, {[4534.2, 4852.6], Fossil hard coal}, {[237.3, 237.3], Fossil oil}, {[4467.3, 5078.6], Fossil gas}, {[15.4, 15.4], Geothermal}, {[95.4, 94.1], Hydro water reservoir}, {[609.0, 420.0], Hydro pumped storage}, {[181.2, 187.1], Others}, {[1204.0, 1205.7], Waste}, {[785.8, 798.7], Wind offshore}, {[3088.4, 3047.5], Wind onshore}, {[0.0, 0.0], Solar}, {[45040.8, 46044.3], Load}, {[41166.6, 42198.1], Residual load}, {[35.1, 34.3], Renewable share of generation}, {[27.0, 26.4], Renewable share of load}] |[1728960300, 1728961200]|\n",
            "+----------+--------------------------------------------------------------------------------------------------------------------------------------------------------------------------------------------------------------------------------------------------------------------------------------------------------------------------------------------------------------------------------------------------------------------------------------------------------------------------------------------------------------------------------------------------------------------------------------------------------------------------------------------------------------------------------------------------------------------------------------------------------------+------------------------+\n",
            "only showing top 20 rows\n",
            "\n",
            "Exploded DataFrame count: 1920\n",
            "+----------------------------------------------------+------------------------+\n",
            "|production_type                                     |unix_seconds            |\n",
            "+----------------------------------------------------+------------------------+\n",
            "|{[-567.4, -445.8], Hydro pumped storage consumption}|[1728943200, 1728944100]|\n",
            "|{[8756.9, 8801.1], Cross border electricity trading}|[1728943200, 1728944100]|\n",
            "|{[2703.4, 2695.6], Hydro Run-of-River}              |[1728943200, 1728944100]|\n",
            "|{[4769.3, 4749.8], Biomass}                         |[1728943200, 1728944100]|\n",
            "|{[11770.3, 11650.0], Fossil brown coal / lignite}   |[1728943200, 1728944100]|\n",
            "|{[5344.6, 5228.6], Fossil hard coal}                |[1728943200, 1728944100]|\n",
            "|{[237.3, 237.3], Fossil oil}                        |[1728943200, 1728944100]|\n",
            "|{[4961.0, 4592.5], Fossil gas}                      |[1728943200, 1728944100]|\n",
            "|{[15.4, 15.4], Geothermal}                          |[1728943200, 1728944100]|\n",
            "|{[363.4, 260.9], Hydro water reservoir}             |[1728943200, 1728944100]|\n",
            "|{[507.4, 389.5], Hydro pumped storage}              |[1728943200, 1728944100]|\n",
            "|{[183.8, 183.8], Others}                            |[1728943200, 1728944100]|\n",
            "|{[1206.2, 1210.6], Waste}                           |[1728943200, 1728944100]|\n",
            "|{[523.5, 546.1], Wind offshore}                     |[1728943200, 1728944100]|\n",
            "|{[2593.5, 2636.7], Wind onshore}                    |[1728943200, 1728944100]|\n",
            "|{[0.0, 0.0], Solar}                                 |[1728943200, 1728944100]|\n",
            "|{[45868.8, 45220.4], Load}                          |[1728943200, 1728944100]|\n",
            "|{[42751.8, 42037.7], Residual load}                 |[1728943200, 1728944100]|\n",
            "|{[32.8, 33.4], Renewable share of generation}       |[1728943200, 1728944100]|\n",
            "|{[25.2, 25.4], Renewable share of load}             |[1728943200, 1728944100]|\n",
            "+----------------------------------------------------+------------------------+\n",
            "only showing top 20 rows\n",
            "\n",
            "Transformed DataFrame count: 3840\n",
            "+-------------------+--------------------------------+----------------+\n",
            "|timestamp          |production_type_name            |production_value|\n",
            "+-------------------+--------------------------------+----------------+\n",
            "|2024-10-14 22:00:00|Hydro pumped storage consumption|-567.4          |\n",
            "|2024-10-14 22:15:00|Hydro pumped storage consumption|-445.8          |\n",
            "|2024-10-14 22:00:00|Cross border electricity trading|8756.9          |\n",
            "|2024-10-14 22:15:00|Cross border electricity trading|8801.1          |\n",
            "|2024-10-14 22:00:00|Hydro Run-of-River              |2703.4          |\n",
            "|2024-10-14 22:15:00|Hydro Run-of-River              |2695.6          |\n",
            "|2024-10-14 22:00:00|Biomass                         |4769.3          |\n",
            "|2024-10-14 22:15:00|Biomass                         |4749.8          |\n",
            "|2024-10-14 22:00:00|Fossil brown coal / lignite     |11770.3         |\n",
            "|2024-10-14 22:15:00|Fossil brown coal / lignite     |11650.0         |\n",
            "|2024-10-14 22:00:00|Fossil hard coal                |5344.6          |\n",
            "|2024-10-14 22:15:00|Fossil hard coal                |5228.6          |\n",
            "|2024-10-14 22:00:00|Fossil oil                      |237.3           |\n",
            "|2024-10-14 22:15:00|Fossil oil                      |237.3           |\n",
            "|2024-10-14 22:00:00|Fossil gas                      |4961.0          |\n",
            "|2024-10-14 22:15:00|Fossil gas                      |4592.5          |\n",
            "|2024-10-14 22:00:00|Geothermal                      |15.4            |\n",
            "|2024-10-14 22:15:00|Geothermal                      |15.4            |\n",
            "|2024-10-14 22:00:00|Hydro water reservoir           |363.4           |\n",
            "|2024-10-14 22:15:00|Hydro water reservoir           |260.9           |\n",
            "+-------------------+--------------------------------+----------------+\n",
            "only showing top 20 rows\n",
            "\n",
            "Cleaned DataFrame count (not null values): 3840\n",
            "+-------------------+--------------------------------+----------------+\n",
            "|timestamp          |production_type_name            |production_value|\n",
            "+-------------------+--------------------------------+----------------+\n",
            "|2024-10-14 22:00:00|Hydro pumped storage consumption|-567.4          |\n",
            "|2024-10-14 22:15:00|Hydro pumped storage consumption|-445.8          |\n",
            "|2024-10-14 22:00:00|Cross border electricity trading|8756.9          |\n",
            "|2024-10-14 22:15:00|Cross border electricity trading|8801.1          |\n",
            "|2024-10-14 22:00:00|Hydro Run-of-River              |2703.4          |\n",
            "|2024-10-14 22:15:00|Hydro Run-of-River              |2695.6          |\n",
            "|2024-10-14 22:00:00|Biomass                         |4769.3          |\n",
            "|2024-10-14 22:15:00|Biomass                         |4749.8          |\n",
            "|2024-10-14 22:00:00|Fossil brown coal / lignite     |11770.3         |\n",
            "|2024-10-14 22:15:00|Fossil brown coal / lignite     |11650.0         |\n",
            "|2024-10-14 22:00:00|Fossil hard coal                |5344.6          |\n",
            "|2024-10-14 22:15:00|Fossil hard coal                |5228.6          |\n",
            "|2024-10-14 22:00:00|Fossil oil                      |237.3           |\n",
            "|2024-10-14 22:15:00|Fossil oil                      |237.3           |\n",
            "|2024-10-14 22:00:00|Fossil gas                      |4961.0          |\n",
            "|2024-10-14 22:15:00|Fossil gas                      |4592.5          |\n",
            "|2024-10-14 22:00:00|Geothermal                      |15.4            |\n",
            "|2024-10-14 22:15:00|Geothermal                      |15.4            |\n",
            "|2024-10-14 22:00:00|Hydro water reservoir           |363.4           |\n",
            "|2024-10-14 22:15:00|Hydro water reservoir           |260.9           |\n",
            "+-------------------+--------------------------------+----------------+\n",
            "only showing top 20 rows\n",
            "\n"
          ]
        }
      ],
      "source": [
        "from pyspark.sql import SparkSession\n",
        "from pyspark.sql.functions import col, explode, from_unixtime, expr\n",
        "from pyspark.sql.types import StructType, StructField, ArrayType, LongType, StringType, FloatType, BooleanType\n",
        "\n",
        "# Load public power data from JSON file without schema\n",
        "public_power_df = spark.read.option(\"multiline\", \"true\").json(\"/content/public_power_data_24.json\")\n",
        "\n",
        "# Check the initial DataFrame schema and content\n",
        "print(\"Initial DataFrame count:\", public_power_df.count())\n",
        "public_power_df.show(truncate=False)\n",
        "\n",
        "# Filter out deprecated records\n",
        "public_power_filtered = public_power_df.filter(~col(\"deprecated\"))\n",
        "\n",
        "# Check after filtering\n",
        "print(\"Filtered DataFrame count (not deprecated):\", public_power_filtered.count())\n",
        "public_power_filtered.show(truncate=False)\n",
        "\n",
        "# Explode the production_types and combine with unix_seconds\n",
        "public_power_exploded = public_power_filtered.select(\n",
        "    explode(\"production_types\").alias(\"production_type\"),\n",
        "    \"unix_seconds\"\n",
        ")\n",
        "\n",
        "# Check exploded DataFrame\n",
        "print(\"Exploded DataFrame count:\", public_power_exploded.count())\n",
        "public_power_exploded.show(truncate=False)\n",
        "\n",
        "# Pair unix_seconds with production data correctly using zip_with\n",
        "public_power_transformed = public_power_exploded.select(\n",
        "    col(\"production_type.name\").alias(\"production_type_name\"),\n",
        "    expr(\"zip_with(unix_seconds, production_type.data, (x, y) -> struct(x, y))\").alias(\"unix_and_data\")\n",
        ").select(\n",
        "    explode(\"unix_and_data\").alias(\"unix_data\"),\n",
        "    \"production_type_name\"\n",
        ").select(\n",
        "    from_unixtime(col(\"unix_data.x\")).alias(\"timestamp\"),\n",
        "    \"production_type_name\",\n",
        "    col(\"unix_data.y\").alias(\"production_value\")\n",
        ")\n",
        "\n",
        "# Check transformed DataFrame\n",
        "print(\"Transformed DataFrame count:\", public_power_transformed.count())\n",
        "public_power_transformed.show(truncate=False)\n",
        "\n",
        "# Additional data quality checks: Filter out rows where `production_value` is null\n",
        "public_power_cleaned = public_power_transformed.filter(col(\"production_value\").isNotNull())\n",
        "\n",
        "# Final DataFrame check before saving\n",
        "print(\"Cleaned DataFrame count (not null values):\", public_power_cleaned.count())\n",
        "public_power_cleaned.show(truncate=False)\n"
      ]
    },
    {
      "cell_type": "code",
      "execution_count": 9,
      "metadata": {
        "colab": {
          "base_uri": "https://localhost:8080/"
        },
        "id": "QtLXFf4mfnXI",
        "outputId": "28f57e76-343c-41db-85ca-d35ca009c03e"
      },
      "outputs": [
        {
          "name": "stdout",
          "output_type": "stream",
          "text": [
            "CSV file saved at: /content/public_power_cleaned.csv\n"
          ]
        }
      ],
      "source": [
        "# Specify the path where the CSV file will be stored\n",
        "csv_file_path = \"/content/public_power_cleaned.csv\"\n",
        "\n",
        "# Save the cleaned DataFrame as a CSV file\n",
        "public_power_cleaned.write.format(\"csv\").mode(\"overwrite\").option(\"header\", \"true\").save(csv_file_path)\n",
        "\n",
        "print(f\"CSV file saved at: {csv_file_path}\")\n"
      ]
    },
    {
      "cell_type": "code",
      "execution_count": null,
      "metadata": {
        "id": "pxHR_TZzfnUe"
      },
      "outputs": [],
      "source": []
    },
    {
      "cell_type": "code",
      "execution_count": null,
      "metadata": {
        "id": "qAjMmgC3fnSE"
      },
      "outputs": [],
      "source": []
    },
    {
      "cell_type": "code",
      "execution_count": null,
      "metadata": {
        "id": "RnsLUPYHfnPw"
      },
      "outputs": [],
      "source": []
    },
    {
      "cell_type": "code",
      "execution_count": null,
      "metadata": {
        "id": "1UUokNo4fnNL"
      },
      "outputs": [],
      "source": []
    },
    {
      "cell_type": "code",
      "execution_count": null,
      "metadata": {
        "id": "W9GJS1yBfnK-"
      },
      "outputs": [],
      "source": []
    },
    {
      "cell_type": "code",
      "execution_count": null,
      "metadata": {
        "id": "FXOPanMMfnIs"
      },
      "outputs": [],
      "source": []
    },
    {
      "cell_type": "code",
      "execution_count": null,
      "metadata": {
        "id": "rOo-S2DpfnGM"
      },
      "outputs": [],
      "source": []
    },
    {
      "cell_type": "code",
      "execution_count": null,
      "metadata": {
        "id": "I43C-wl8fnD6"
      },
      "outputs": [],
      "source": []
    },
    {
      "cell_type": "code",
      "execution_count": null,
      "metadata": {
        "id": "DH1nSmtHfnBm"
      },
      "outputs": [],
      "source": []
    },
    {
      "cell_type": "code",
      "execution_count": null,
      "metadata": {
        "id": "_ZElQPwcfm_J"
      },
      "outputs": [],
      "source": []
    },
    {
      "cell_type": "code",
      "execution_count": null,
      "metadata": {
        "id": "8plhfhhGfm8p"
      },
      "outputs": [],
      "source": []
    },
    {
      "cell_type": "code",
      "execution_count": null,
      "metadata": {
        "id": "YClIQJTxfm5o"
      },
      "outputs": [],
      "source": []
    },
    {
      "cell_type": "code",
      "execution_count": null,
      "metadata": {
        "id": "b7lcHb1Rfm2y"
      },
      "outputs": [],
      "source": []
    },
    {
      "cell_type": "code",
      "execution_count": null,
      "metadata": {
        "id": "Z7FumSwwfm0Q"
      },
      "outputs": [],
      "source": []
    },
    {
      "cell_type": "code",
      "execution_count": null,
      "metadata": {
        "id": "mxWBz4s0fmx3"
      },
      "outputs": [],
      "source": []
    },
    {
      "cell_type": "code",
      "execution_count": null,
      "metadata": {
        "id": "MYGQj_1afmvp"
      },
      "outputs": [],
      "source": []
    },
    {
      "cell_type": "code",
      "execution_count": null,
      "metadata": {
        "id": "ebfpXlo0fmtP"
      },
      "outputs": [],
      "source": []
    },
    {
      "cell_type": "code",
      "execution_count": null,
      "metadata": {
        "id": "Nz7e3nAjfmrU"
      },
      "outputs": [],
      "source": []
    },
    {
      "cell_type": "code",
      "execution_count": null,
      "metadata": {
        "id": "-k70zi-jfmpB"
      },
      "outputs": [],
      "source": []
    },
    {
      "cell_type": "code",
      "execution_count": null,
      "metadata": {
        "id": "dyQy_NUnfmml"
      },
      "outputs": [],
      "source": []
    },
    {
      "cell_type": "code",
      "execution_count": null,
      "metadata": {
        "id": "WBwu-grxfmkk"
      },
      "outputs": [],
      "source": []
    },
    {
      "cell_type": "code",
      "execution_count": null,
      "metadata": {
        "id": "NpPQePB2fmiU"
      },
      "outputs": [],
      "source": []
    },
    {
      "cell_type": "code",
      "execution_count": null,
      "metadata": {
        "id": "KqQvubI-fmgV"
      },
      "outputs": [],
      "source": []
    },
    {
      "cell_type": "code",
      "execution_count": null,
      "metadata": {
        "id": "d24wSrxMfmeW"
      },
      "outputs": [],
      "source": []
    },
    {
      "cell_type": "code",
      "execution_count": null,
      "metadata": {
        "id": "trBXaQuDfmck"
      },
      "outputs": [],
      "source": []
    },
    {
      "cell_type": "code",
      "execution_count": null,
      "metadata": {
        "id": "o4HEanqKfmZ8"
      },
      "outputs": [],
      "source": []
    },
    {
      "cell_type": "code",
      "execution_count": null,
      "metadata": {
        "id": "JYwRoPs_fmV6"
      },
      "outputs": [],
      "source": []
    },
    {
      "cell_type": "code",
      "execution_count": null,
      "metadata": {
        "id": "90ZkVDbqfmTS"
      },
      "outputs": [],
      "source": []
    },
    {
      "cell_type": "code",
      "execution_count": null,
      "metadata": {
        "id": "8ptXYhC8fmMg"
      },
      "outputs": [],
      "source": []
    }
  ],
  "metadata": {
    "colab": {
      "provenance": []
    },
    "kernelspec": {
      "display_name": "Python 3",
      "name": "python3"
    },
    "language_info": {
      "name": "python"
    }
  },
  "nbformat": 4,
  "nbformat_minor": 0
}
